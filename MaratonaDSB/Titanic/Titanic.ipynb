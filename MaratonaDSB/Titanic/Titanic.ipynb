{
 "cells": [
  {
   "cell_type": "markdown",
   "metadata": {},
   "source": [
    "# Data Science Brasil - Desafio Kaggle - Titanic\n",
    "\n",
    "#### Equipe:\n",
    "    * Ricardo Galiardi"
   ]
  },
  {
   "cell_type": "markdown",
   "metadata": {},
   "source": [
    "##### Preparação dos Dados"
   ]
  },
  {
   "cell_type": "code",
   "execution_count": null,
   "metadata": {},
   "outputs": [],
   "source": [
    "# Importando os módulos\n",
    "import pandas as pd                 \n",
    "import matplotlib.pyplot as plt    \n",
    "import numpy as np                \n",
    "%matplotlib inline       "
   ]
  },
  {
   "cell_type": "code",
   "execution_count": 2,
   "metadata": {},
   "outputs": [
    {
     "name": "stdout",
     "output_type": "stream",
     "text": [
      "['.ipynb_checkpoints', 'titanic.ipynb']\n"
     ]
    }
   ],
   "source": [
    "# Lista os arquivos\n",
    "import os\n",
    "print(os.listdir())"
   ]
  },
  {
   "cell_type": "code",
   "execution_count": null,
   "metadata": {},
   "outputs": [],
   "source": [
    "# Prepara os datasets\n",
    "# Dados de Treino\n",
    "dstrain = pd.read_csv(\"train.csv\", names=['PassengerId', 'Pclass', 'Name', 'Sex', 'Age', 'SibSp', 'Parch', 'Ticket', 'Fare', 'Cabin', 'Embarked'], sep=',', header=0)\n",
    "\n",
    "# Dados de Teste\n",
    "dstest = pd.read_csv(\"test.csv\", names=['PassengerId', 'Pclass', 'Name', 'Sex', 'Age', 'SibSp', 'Parch', 'Ticket', 'Fare', 'Cabin', 'Embarked'], sep=',', header=0)\n",
    "\n",
    "# Dados para Envio\n",
    "dssubmission = pd.read_csv(\"gender_submission.csv\", names=['PassengerId', 'Survived'], sep=',', header=0)"
   ]
  },
  {
   "cell_type": "code",
   "execution_count": null,
   "metadata": {},
   "outputs": [],
   "source": [
    "# Imprime na tela\n",
    "dstest"
   ]
  },
  {
   "cell_type": "markdown",
   "metadata": {},
   "source": [
    "##### Exploração dos Dados"
   ]
  },
  {
   "cell_type": "code",
   "execution_count": null,
   "metadata": {},
   "outputs": [],
   "source": [
    "# Cria uma função para análise gráfica do dataset e das vendas semanais\n",
    "def scatter(dataset, column):\n",
    "    plt.figure()\n",
    "    plt.scatter(dataset[column] , dataset['weeklySales'])\n",
    "    plt.ylabel('weeklySales')\n",
    "    plt.xlabel(column)\n",
    "\n",
    "scatter(dataset, 'Fuel_Price')\n",
    "scatter(dataset, 'Size')\n",
    "scatter(dataset, 'CPI')\n",
    "scatter(dataset, 'Type')\n",
    "scatter(dataset, 'isHoliday')\n",
    "scatter(dataset, 'Unemployment')\n",
    "scatter(dataset, 'Temperature')\n",
    "scatter(dataset, 'Store')\n",
    "scatter(dataset, 'Dept')"
   ]
  }
 ],
 "metadata": {
  "kernelspec": {
   "display_name": "Python 3",
   "language": "python",
   "name": "python3"
  },
  "language_info": {
   "codemirror_mode": {
    "name": "ipython",
    "version": 3
   },
   "file_extension": ".py",
   "mimetype": "text/x-python",
   "name": "python",
   "nbconvert_exporter": "python",
   "pygments_lexer": "ipython3",
   "version": "3.7.0"
  }
 },
 "nbformat": 4,
 "nbformat_minor": 2
}
