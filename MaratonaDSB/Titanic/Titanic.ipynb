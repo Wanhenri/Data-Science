{
 "cells": [
  {
   "cell_type": "markdown",
   "metadata": {},
   "source": [
    "# Data Science Brasil - Desafio Kaggle - Titanic\n",
    "\n",
    "#### Equipe:\n",
    "    * Ricardo Galiardi \n",
    "    * Wanderson Henrique dos Santos"
   ]
  },
  {
   "cell_type": "markdown",
   "metadata": {},
   "source": [
    "##### Preparação dos Dados"
   ]
  },
  {
   "cell_type": "code",
   "execution_count": null,
   "metadata": {},
   "outputs": [],
   "source": [
    "# Importando os módulos\n",
    "\n",
    "import numpy as np\n",
    "import pandas as pd                 \n",
    "import matplotlib.pyplot as plt    \n",
    "import seaborn as sns; sns.set(style=\"ticks\", color_codes=True)\n",
    "%matplotlib inline       "
   ]
  },
  {
   "cell_type": "code",
   "execution_count": null,
   "metadata": {},
   "outputs": [],
   "source": [
    "# Lista os arquivos\n",
    "\n",
    "import os\n",
    "print(os.listdir())"
   ]
  },
  {
   "cell_type": "markdown",
   "metadata": {},
   "source": [
    "## Datasets\n",
    "\n",
    "### Treino\n",
    "    Columns\n",
    "        * PassengerId: type should be integers\n",
    "        * Survived: Survived or Not\n",
    "        * Pclass: Class of Travel\n",
    "        * Name: Name of Passenger\n",
    "        * Sex: Gender\n",
    "        * Age\n",
    "        * SibSp: Number of Sibling/Spouse aboard\n",
    "        * Parch: Number of Parent/Child aboard\n",
    "        * Ticket\n",
    "        * Fare\n",
    "        * Cabin\n",
    "        * Embarked: The port in which a passenger has embarked. C - Cherbourg, S - Southampton, Q = Queenstown\n",
    "            \n",
    "### Teste\n",
    "    Columns\n",
    "        * PassengerId\n",
    "        * Pclass\n",
    "        * Name\n",
    "        * Sex\n",
    "        * Age\n",
    "        * SibSp\n",
    "        * Parch\n",
    "        * Ticket\n",
    "        * Fare\n",
    "        * Cabin\n",
    "        * Embarked\n",
    "        \n",
    "### Envio\n",
    "    Columns\n",
    "        * PassengerId: integer\n",
    "        * Survived: binary"
   ]
  },
  {
   "cell_type": "markdown",
   "metadata": {},
   "source": [
    "## Variable Notes\n",
    "    * survival\n",
    "        * 0 = No\n",
    "        * 1 = Yes\n",
    "    * pclass: A proxy for socio-economic status (SES)\n",
    "        * 1: 1st = Upper\n",
    "        * 2: 2nd = Middle\n",
    "        * 3: 3rd = Lower\n",
    "    * age: Age is fractional if less than 1. If the age is estimated, is it in the form of xx.5\n",
    "    * sibsp: The dataset defines family relations in this way...\n",
    "        * Sibling = brother, sister, stepbrother, stepsister\n",
    "        * Spouse = husband, wife (mistresses and fiancés were ignored)\n",
    "    * parch: The dataset defines family relations in this way...\n",
    "        * Parent = mother, father\n",
    "        * Child = daughter, son, stepdaughter, stepson\n",
    "        * Some children travelled only with a nanny, therefore parch=0 for them.\n",
    "    * embarked: \n",
    "        * C = Cherbourg\n",
    "        * Q = Queenstown\n",
    "        * S = Southampton  "
   ]
  },
  {
   "cell_type": "code",
   "execution_count": null,
   "metadata": {},
   "outputs": [],
   "source": [
    "# Prepara os datasets\n",
    "\n",
    "# Dados de Treino\n",
    "dstrain = pd.read_csv(\"train.csv\", names=['PassengerId', 'Survived', 'Pclass', 'Name', 'Sex', 'Age', 'SibSp', 'Parch', 'Ticket', 'Fare', 'Cabin', 'Embarked'], sep=',', header=0)\n",
    "\n",
    "# Dados de Teste\n",
    "dstest = pd.read_csv(\"test.csv\", names=['PassengerId', 'Pclass', 'Name', 'Sex', 'Age', 'SibSp', 'Parch', 'Ticket', 'Fare', 'Cabin', 'Embarked'], sep=',', header=0)\n",
    "\n",
    "# Dados para Envio\n",
    "dssubmission = pd.read_csv(\"gender_submission.csv\", names=['PassengerId', 'Survived'], sep=',', header=0)"
   ]
  },
  {
   "cell_type": "code",
   "execution_count": null,
   "metadata": {},
   "outputs": [],
   "source": [
    "# Imprime na tela\n",
    "\n",
    "dstrain.head()"
   ]
  },
  {
   "cell_type": "code",
   "execution_count": null,
   "metadata": {},
   "outputs": [],
   "source": [
    "# Verificando os primeiros registros\n",
    "\n",
    "dstrain.head()"
   ]
  },
  {
   "cell_type": "code",
   "execution_count": null,
   "metadata": {},
   "outputs": [],
   "source": [
    "# Verificando se existem valores nulos\n",
    "\n",
    "dstrain.isnull().sum(axis=0)"
   ]
  },
  {
   "cell_type": "code",
   "execution_count": null,
   "metadata": {},
   "outputs": [],
   "source": [
    "# Normalizar e limpar os dados missing\n",
    "\n",
    "# Trocando os dados missing da Idade, pela média das idades\n",
    "dstrain['Age'].fillna(dstrain['Age'].mean(), inplace = True)\n",
    "\n",
    "# Trocando os dados missing do Local Embarque, pelo valor N\n",
    "dstrain['Embarked'].fillna('N', inplace = True)\n",
    "\n",
    "# Trocando os dados missing da Cabine, pelo valor N00\n",
    "dstrain['Cabin'].fillna('N00', inplace = True)\n"
   ]
  },
  {
   "cell_type": "code",
   "execution_count": null,
   "metadata": {},
   "outputs": [],
   "source": [
    "# Retirando as colunas irrelevantes para o modelo\n",
    "\n",
    "dstrain.drop(['Name','Ticket','Cabin'], axis = 1, inplace = True)\n",
    "dstest.drop(['Name','Ticket','Cabin'], axis = 1, inplace = True)"
   ]
  },
  {
   "cell_type": "code",
   "execution_count": null,
   "metadata": {},
   "outputs": [],
   "source": [
    "# Tratar os missing values\n",
    "\n",
    "def process_age(df,cut_points,label_names):\n",
    "    df[\"Age\"] = df[\"Age\"].fillna(-0.5)\n",
    "    df[\"Age_categories\"] = pd.cut(df[\"Age\"],cut_points,labels=label_names)\n",
    "    return df\n",
    " \n",
    "cut_points = [-1,0,5,12,18,35,60,100]\n",
    "label_names = [\"Missing\",\"Infant\",\"Child\",\"Teenager\",\"Young Adult\",\"Adult\",\"Senior\"]\n",
    " \n",
    "dstrain = process_age(train,cut_points,label_names)\n",
    "dstest = process_age(test,cut_points,label_names)"
   ]
  },
  {
   "cell_type": "code",
   "execution_count": null,
   "metadata": {},
   "outputs": [],
   "source": [
    "# Visualizando a correlação em tabela\n",
    "\n",
    "# Coeficiente de correlação: \n",
    "# +1  = forte correlação positiva\n",
    "# 0   = não há correlação\n",
    "# -1  = forte correlação negativa\n",
    "dstrain.corr()"
   ]
  },
  {
   "cell_type": "markdown",
   "metadata": {},
   "source": [
    "##### Exploração dos Dados"
   ]
  },
  {
   "cell_type": "code",
   "execution_count": null,
   "metadata": {},
   "outputs": [],
   "source": [
    "def fnPlotBar(dataset, column):\n",
    "        plt = dataset.pivot_table(index=column,values='Survived')\n",
    "        plt.plot.bar()\n",
    "    \n",
    "fnPlotBar(dstrain, 'Pclass')\n",
    "fnPlotBar(dstrain, 'Sex')\n",
    "fnPlotBar(dstrain, 'SibSp')\n",
    "fnPlotBar(dstrain, 'Parch')\n",
    "fnPlotBar(dstrain, 'Embarked')"
   ]
  },
  {
   "cell_type": "code",
   "execution_count": null,
   "metadata": {},
   "outputs": [],
   "source": [
    "# Cria uma função para análise gráfica do dataset e das vendas semanais\n",
    "def fnScatter(dataset, column):\n",
    "    plt.figure()\n",
    "    plt.scatter(dataset[column] , dataset['Survived'])\n",
    "    #plt..plot.bar(dstrain.pivot_table(index=dataset[column],values=dataset['Survived']))\n",
    "    plt.ylabel('Survived')\n",
    "    plt.xlabel(column)\n",
    "\n",
    "fnScatter(dstrain, 'Age')\n",
    "fnScatter(dstrain, 'Fare')"
   ]
  },
  {
   "cell_type": "code",
   "execution_count": null,
   "metadata": {},
   "outputs": [],
   "source": [
    "def plotter(dataset, column):\n",
    "    #plt.figure()\n",
    "    #plt.scatter(dataset[column] , dataset['Survived'])\n",
    "    plt = dstrain.pivot_table(index=column,values='Survived')\n",
    "    plt.plot.bar()\n",
    "    #plt.ylabel('Survived')\n",
    "    #plt.xlabel(column)\n",
    "    \n",
    "plotter(dstrain, 'Pclass')\n",
    "plotter(dstrain, 'Sex')\n",
    "plotter(dstrain, 'SibSp')\n",
    "plotter(dstrain, 'Parch')\n",
    "plotter(dstrain, 'Embarked')\n",
    "\n",
    "plotter(dstrain, 'Age')\n",
    "plotter(dstrain, 'Fare')\n",
    "# class_pivot = train.pivot_table(index=\"Pclass\",values=\"Survived\")\n",
    "# class_pivot.plot.bar(color='r') # r para indicar a cor vermelha(red)\n",
    "# plt.show()"
   ]
  },
  {
   "cell_type": "code",
   "execution_count": null,
   "metadata": {},
   "outputs": [],
   "source": [
    "# Correlação Entre as Variáveis\n",
    "fig = plt.figure(figsize=(18, 14))\n",
    "corr = dstrain.corr()\n",
    "c = plt.pcolor(corr)\n",
    "plt.yticks(np.arange(0.5, len(corr.index), 1), corr.index)\n",
    "plt.xticks(np.arange(0.5, len(corr.columns), 1), corr.columns)\n",
    "fig.colorbar(c)"
   ]
  },
  {
   "cell_type": "code",
   "execution_count": null,
   "metadata": {},
   "outputs": [],
   "source": [
    "# Analisando as Distribuições das Variáveis\n",
    "\n",
    "sns.pairplot(dstrain, vars=['Survived', 'Pclass', 'Sex', 'Age', 'SibSp', 'Parch', 'Fare'])\n",
    "\n",
    "for name, group in dstrain.groupby([\"Cabin\", \"Embarked\"]):\n",
    "    plt.title(name)\n",
    "    plt.scatter(range(len(group)), group[\"Survived\"])\n",
    "    plt.show()\n",
    "    break"
   ]
  },
  {
   "cell_type": "code",
   "execution_count": null,
   "metadata": {},
   "outputs": [],
   "source": [
    "\n",
    "\n",
    "survival"
   ]
  }
 ],
 "metadata": {
  "kernelspec": {
   "display_name": "Python 3",
   "language": "python",
   "name": "python3"
  },
  "language_info": {
   "codemirror_mode": {
    "name": "ipython",
    "version": 3
   },
   "file_extension": ".py",
   "mimetype": "text/x-python",
   "name": "python",
   "nbconvert_exporter": "python",
   "pygments_lexer": "ipython3",
   "version": "3.7.0"
  }
 },
 "nbformat": 4,
 "nbformat_minor": 2
}
